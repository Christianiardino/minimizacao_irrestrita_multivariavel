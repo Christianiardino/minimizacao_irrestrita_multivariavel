{
 "cells": [
  {
   "cell_type": "code",
   "execution_count": 1,
   "id": "6c7e3bf2",
   "metadata": {},
   "outputs": [],
   "source": [
    "import matplotlib.pyplot as plt\n",
    "from mpl_toolkits import mplot3d \n",
    "import numpy\n",
    "import sympy\n",
    "from sympy.solvers import solve\n",
    "\n",
    "MAX_ITERATION = 300\n",
    "MAX_ITERATION_DICOTOMICA = 15"
   ]
  },
  {
   "cell_type": "code",
   "execution_count": 2,
   "id": "996238da",
   "metadata": {},
   "outputs": [],
   "source": [
    "x, y, a = sympy.symbols(\"x y a\")\n",
    "#função 1\n",
    "f1 = 10*pow(y-x*x, 2)+pow(1-x, 2)\n",
    "\n",
    "#função 2\n",
    "f2 = 200*pow(y-x*x, 2)+pow(1-x, 2)\n",
    "\n",
    "#função 3\n",
    "A3 = [[ 0.78, -0.02, -0.12, -0.14],\n",
    "     [-0.02,  0.86, -0.04,  0.06],\n",
    "     [-0.12, -0.04,  0.72, -0.08],\n",
    "     [-0.14,  0.06, -0.08, 0.74]]\n",
    "B3 = [0.76, 0.08, 1.12, 0.68]\n",
    "soma_temp_a3 = sum([sum([A3[m][n] for n in range(len(A3))]) for m in range(len(A3))])\n",
    "f3 = 0.5*x*x*soma_temp_a3 - x*sum([i for i in B3])\n",
    "\n",
    "#função 4\n",
    "A4 = [[1, 1, 1, 1],\n",
    "     [1, 3, 3, 3],\n",
    "     [1, 3, 5, 5],\n",
    "     [1, 3, 5, 7]]\n",
    "B4 = [10, 28, 42, 50]\n",
    "soma_temp_a4 = sum([sum([A4[m][n] for n in range(len(A4))]) for m in range(len(A4))])\n",
    "f4 = 0.5*x*x*soma_temp_a4 - x*sum([i for i in B4])"
   ]
  },
  {
   "cell_type": "code",
   "execution_count": 3,
   "id": "250cee02",
   "metadata": {},
   "outputs": [],
   "source": [
    "def busca_dicotomica(a_min, a_max, e, f_alpha):\n",
    "    for k in range(MAX_ITERATIONITERATION_DICOTOMICA):\n",
    "            if a_max - a_min < e * 1.01:\n",
    "                break\n",
    "            lambda_k = ((a_min+a_max)/2)-e\n",
    "            mi_k = ((a_min+a_max)/2)+e\n",
    "            f_lambda = f_alpha.subs(a, lambda_k)\n",
    "            f_mi = f_alpha.subs(a, mi_k)\n",
    "            \n",
    "            if f_lambda < f_mi:\n",
    "                a_max = mi_k\n",
    "            else:\n",
    "                a_min = lambda_k\n",
    "    return (a_min+a_max)/2"
   ]
  },
  {
   "cell_type": "code",
   "execution_count": 4,
   "id": "e71999d7",
   "metadata": {},
   "outputs": [],
   "source": [
    "def metodo_gradiente(x_i, y_i, e, alpha_recalc, f):\n",
    "    \n",
    "    gradiente = [f.diff(x), f.diff(y)]\n",
    "\n",
    "    for i in range(MAX_ITERATION):\n",
    "        direcao_0 = -gradiente[0].subs([(x, x_i), (y, y_i)])\n",
    "        direcao_1 = -gradiente[1].subs([(x, x_i), (y, y_i)])\n",
    "        temp = pow(direcao_0**2 + direcao_1**2, 1/2)\n",
    "        direcao_0 = direcao_0/temp\n",
    "        direcao_1 = direcao_1/temp\n",
    "        \n",
    "        if i == 0 or alpha_recalc:\n",
    "            f_alpha = f.subs([(x, x_i + direcao_0 * a), (y, y_i + direcao_1 * a)])\n",
    "            alpha = busca_dicotomica(0, 1, e, f_alpha)\n",
    "                    \n",
    "        novo_x = x_i+alpha*direcao_0\n",
    "        novo_y = y_i+alpha*direcao_1\n",
    "\n",
    "#         print(f\"____k {i}____\")\n",
    "#         print(f\"direcao_0 = {direcao_0}\")\n",
    "#         print(f\"direcao_1 = {direcao_1}\")\n",
    "#         print(f\"novo_x = {novo_x}\")\n",
    "#         print(f\"novo_y = {novo_y}\")\n",
    "#         print(alpha)\n",
    "\n",
    "        if (abs(novo_x - x_i) < e) and (abs(novo_y - y_i) < e):\n",
    "            break\n",
    "            \n",
    "        x_i = novo_x\n",
    "        y_i = novo_y\n",
    "    return [novo_x, novo_y]"
   ]
  },
  {
   "cell_type": "code",
   "execution_count": 5,
   "id": "a6f7595d",
   "metadata": {},
   "outputs": [
    {
     "name": "stdout",
     "output_type": "stream",
     "text": [
      "Valor cálculado pelo método descente : [0.959812657739345, 0.920346851279331]\n",
      "Valor otimizado : [(1, 1)]\n",
      "\n",
      "\n",
      "\n",
      "Valor cálculado pelo método descente : [1.11912872972308, 1.25209536450534]\n",
      "Valor otimizado : [(1, 1)]\n",
      "\n",
      "\n",
      "\n",
      "Valor cálculado pelo método descente : 1.09091278076172\n",
      "Valor otimizado : [1.09090909090909]\n",
      "\n",
      "\n",
      "\n",
      "Valor cálculado pelo método descente : 2.95354357910156\n",
      "Valor otimizado : [2.95454545454545]\n"
     ]
    }
   ],
   "source": [
    "#    1º - Valor inucial de x\n",
    "#    2º - Valor inicial de y\n",
    "#    3º - Valor do error (epsilon)\n",
    "#    4º - Recalcular alpha a cada iteração\n",
    "\n",
    "mg1 = metodo_gradiente(-1.2, 1, 0.001, True, f1)\n",
    "sp1 = solve([f1.diff(x), f1.diff(y)], [x, y])\n",
    "print(f\"Valor cálculado pelo método descente : {mg1}\\nValor otimizado : {sp1}\\n\\n\\n\")\n",
    "\n",
    "mg2 = metodo_gradiente(-1.2, 1, 0.001, True, f2)\n",
    "sp2 = solve([f2.diff(x), f2.diff(y)], [x, y])\n",
    "print(f\"Valor cálculado pelo método descente : {mg2}\\nValor otimizado : {sp2}\\n\\n\\n\")\n",
    "\n",
    "mg3 = metodo_gradiente(0, 0, 0.001, True, f3)[0]\n",
    "sp3 = solve(f3.diff(x), x)\n",
    "print(f\"Valor cálculado pelo método descente : {mg3}\\nValor otimizado : {sp3}\\n\\n\\n\")\n",
    "\n",
    "mg4 = metodo_gradiente(0, 0, 0.001, True, f4)[0]\n",
    "sp4 = solve(f4.diff(x), x)\n",
    "print(f\"Valor cálculado pelo método descente : {mg4}\\nValor otimizado : {sp4}\")"
   ]
  },
  {
   "cell_type": "code",
   "execution_count": null,
   "id": "e5697b17",
   "metadata": {},
   "outputs": [],
   "source": []
  },
  {
   "cell_type": "code",
   "execution_count": null,
   "id": "d8529596",
   "metadata": {},
   "outputs": [],
   "source": []
  }
 ],
 "metadata": {
  "kernelspec": {
   "display_name": "Python 3 (ipykernel)",
   "language": "python",
   "name": "python3"
  },
  "language_info": {
   "codemirror_mode": {
    "name": "ipython",
    "version": 3
   },
   "file_extension": ".py",
   "mimetype": "text/x-python",
   "name": "python",
   "nbconvert_exporter": "python",
   "pygments_lexer": "ipython3",
   "version": "3.9.7"
  }
 },
 "nbformat": 4,
 "nbformat_minor": 5
}
