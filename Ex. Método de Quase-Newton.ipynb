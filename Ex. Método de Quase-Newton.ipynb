{
 "cells": [
  {
   "cell_type": "code",
   "execution_count": 7,
   "id": "4e53efd5",
   "metadata": {},
   "outputs": [],
   "source": [
    "import matplotlib.pyplot as plt\n",
    "from mpl_toolkits import mplot3d \n",
    "import numpy\n",
    "import sympy\n",
    "from sympy.solvers import solve\n",
    "from sympy import diff\n",
    "from time import sleep\n",
    "from progressbar import progressbar\n",
    "\n",
    "MAX_ITERATION_QUASE_NEWTON = 100\n",
    "MAX_ITERATIONITERATION_DICOTOMICA = 1000"
   ]
  },
  {
   "cell_type": "code",
   "execution_count": 8,
   "id": "75c6258e",
   "metadata": {},
   "outputs": [],
   "source": [
    "x, y, a = sympy.symbols(\"x y a\")\n",
    "#função 1\n",
    "f1 = 10*pow(y-x*x, 2)+pow(1-x, 2)\n",
    "\n",
    "#função 2\n",
    "f2 = 200*pow(y-x*x, 2)+pow(1-x, 2)\n",
    "\n",
    "#função 3\n",
    "A3 = [[ 0.78, -0.02, -0.12, -0.14],\n",
    "     [-0.02,  0.86, -0.04,  0.06],\n",
    "     [-0.12, -0.04,  0.72, -0.08],\n",
    "     [-0.14,  0.06, -0.08, 0.74]]\n",
    "B3 = [0.76, 0.08, 1.12, 0.68]\n",
    "soma_temp_a3 = sum([sum([A3[m][n] for n in range(len(A3))]) for m in range(len(A3))])\n",
    "f3 = 0.5*x*x*soma_temp_a3 - x*sum([i for i in B3])\n",
    "\n",
    "#função 4\n",
    "A4 = [[1, 1, 1, 1],\n",
    "     [1, 3, 3, 3],\n",
    "     [1, 3, 5, 5],\n",
    "     [1, 3, 5, 7]]\n",
    "B4 = [10, 28, 42, 50]\n",
    "soma_temp_a4 = sum([sum([A4[m][n] for n in range(len(A4))]) for m in range(len(A4))])\n",
    "f4 = 0.5*x*x*soma_temp_a4 - x*sum([i for i in B4])"
   ]
  },
  {
   "cell_type": "code",
   "execution_count": 9,
   "id": "401092b1",
   "metadata": {},
   "outputs": [],
   "source": [
    "def busca_dicotomica(a_min, a_max, e, f_alpha):\n",
    "    for k in range(MAX_ITERATIONITERATION_DICOTOMICA):\n",
    "        if abs(a_max/a_min) < 1 + e*10 and k > 5:\n",
    "                break\n",
    "        lambda_k = ((a_min+a_max)/2)-e\n",
    "        mi_k = ((a_min+a_max)/2)+e\n",
    "        f_lambda = f_alpha.subs(a, lambda_k)\n",
    "        f_mi = f_alpha.subs(a, mi_k)\n",
    "            \n",
    "        if f_lambda < f_mi:\n",
    "            a_max = mi_k\n",
    "        else:\n",
    "            a_min = lambda_k\n",
    "    return (a_min+a_max)/2"
   ]
  },
  {
   "cell_type": "code",
   "execution_count": 10,
   "id": "9e074c09",
   "metadata": {},
   "outputs": [],
   "source": [
    "def DFP(input_D_i, input_s_i, input_y_i):\n",
    "    s_i = numpy.array([[i] for i in input_s_i])\n",
    "    y_i = numpy.array([[i] for i in input_y_i])\n",
    "    D_i = numpy.array(input_D_i)\n",
    "    p1 = numpy.true_divide(s_i.dot(s_i.transpose()), s_i.transpose().dot(y_i))\n",
    "    div_p2 = y_i.transpose().dot(D_i).dot(y_i)\n",
    "    nom_p2 = D_i.dot(y_i).dot(y_i.transpose()).dot(D_i)\n",
    "    p2 = numpy.true_divide(nom_p2, div_p2)\n",
    "    return D_i + p1 - p2"
   ]
  },
  {
   "cell_type": "code",
   "execution_count": 14,
   "id": "57d4d86f",
   "metadata": {},
   "outputs": [],
   "source": [
    "def metodo_quase_newton(x_i, e, f):\n",
    "    grad = [f.diff(x), f.diff(y)]\n",
    "    \n",
    "    #Passo 3\n",
    "    D_i = numpy.identity(len(x_i))\n",
    "    \n",
    "    for i in progressbar(range(MAX_ITERATION_QUASE_NEWTON)):\n",
    "        #Passo 1\n",
    "        gradiente = [grad[0].subs([(x, x_i[0]), (y, x_i[1])]), \n",
    "                     grad[1].subs([(x, x_i[0]), (y, x_i[1])])]\n",
    "        #print(f\"gradiente = {gradiente}\")\n",
    "\n",
    "        #Passo 4\n",
    "        d_i = -D_i.dot(gradiente)\n",
    "        #print(f\"d_i = {d_i}\")\n",
    "        \n",
    "        #Passo 5\n",
    "        f_alpha = f.subs([(x, x_i[0] + d_i[0] * a), \n",
    "                          (y, x_i[1] + d_i[1] * a)])\n",
    "        alpha = busca_dicotomica(-10, 10, e/10, f_alpha)\n",
    "        #print(f\"alpha = {alpha}\")\n",
    "\n",
    "        #Passo 6\n",
    "        antigo_x_i = x_i\n",
    "        x_i = [x_i[k] + alpha*d_i[k] for k in range(len(x_i))]\n",
    "        #print(f\"x_i = {x_i}\")\n",
    "        \n",
    "        antigo_gradiente = gradiente\n",
    "        gradiente = [grad[0].subs([(x, x_i[0]), (y, x_i[1])]), \n",
    "                     grad[1].subs([(x, x_i[0]), (y, x_i[1])])]\n",
    "        \n",
    "        #Passo 7\n",
    "        convergiu = True\n",
    "        for k in range(len(x_i)):\n",
    "            if abs(antigo_x_i[k] - x_i[k]) > e/1000:\n",
    "                convergiu = False\n",
    "                break\n",
    "        if convergiu:\n",
    "            print(f\"Numero de iterações foi o suficiente para convergir\")\n",
    "            break\n",
    "            \n",
    "        #Passo 8\n",
    "        s_i = [x_i[k] - antigo_x_i[k] for k in range(len(x_i))]\n",
    "        y_i = [gradiente[k] - antigo_gradiente[k] for k in range(len(gradiente))]\n",
    "        #print(f\"s_i = {s_i}\")\n",
    "        #print(f\"y_i = {y_i}\")\n",
    "        \n",
    "        #Passo 9\n",
    "        np_s_i = numpy.array(s_i)\n",
    "        np_y_i = numpy.array(y_i)\n",
    "        result = numpy.dot(np_s_i.transpose(), np_y_i)\n",
    "        \n",
    "        #Passo 9\n",
    "        if result < 0:\n",
    "            D_i = numpy.identity(len(x_i))\n",
    "        \n",
    "        #Passo 10\n",
    "        if result >= 0:\n",
    "            D_i = DFP(D_i, np_s_i, np_y_i)\n",
    "        #print(f\"D_i+1 = {D_i}\")\n",
    "        #print(f\"result = {result}\")\n",
    "        \n",
    "    return x_i"
   ]
  },
  {
   "cell_type": "code",
   "execution_count": 15,
   "id": "fbbbe249",
   "metadata": {
    "scrolled": false
   },
   "outputs": [
    {
     "name": "stderr",
     "output_type": "stream",
     "text": [
      "  9% (9 of 100) |##                      | Elapsed Time: 0:00:01 ETA:   0:00:15"
     ]
    },
    {
     "name": "stdout",
     "output_type": "stream",
     "text": [
      "Numero de iterações foi o suficiente para convergir\n",
      "\n",
      "Função 1 - Valor cálculado pelo método Quase-Newton : [1.00000000000021, 1.00000000000074]\n",
      "Valor otimizado : [(1, 1)]\n"
     ]
    }
   ],
   "source": [
    "mqn1 = metodo_quase_newton([-1.2, 1], 0.001, f1)\n",
    "sp1 = solve([f1.diff(x), f1.diff(y)], [x, y])\n",
    "print(f\"\\nFunção 1 - Valor cálculado pelo método Quase-Newton : {mqn1}\\nValor otimizado : {sp1}\")"
   ]
  },
  {
   "cell_type": "code",
   "execution_count": 22,
   "id": "a5cb9c88",
   "metadata": {
    "scrolled": false
   },
   "outputs": [
    {
     "name": "stderr",
     "output_type": "stream",
     "text": [
      " 15% (15 of 100) |###                    | Elapsed Time: 0:00:02 ETA:   0:00:13"
     ]
    },
    {
     "name": "stdout",
     "output_type": "stream",
     "text": [
      "Numero de iterações foi o suficiente para convergir\n",
      "\n",
      "Função 2 - Valor cálculado pelo método Quase-Newton : [0.999999999999647, 0.999999999999303]\n",
      "Valor otimizado : [(1, 1)]\n"
     ]
    }
   ],
   "source": [
    "mqn2 = metodo_quase_newton([-1.2, 1], 0.001, f2)\n",
    "sp2 = solve([f2.diff(x), f2.diff(y)], [x, y])\n",
    "print(f\"\\nFunção 2 - Valor cálculado pelo método Quase-Newton : {mqn2}\\nValor otimizado : {sp2}\")"
   ]
  },
  {
   "cell_type": "code",
   "execution_count": 21,
   "id": "0bb2ecc1",
   "metadata": {},
   "outputs": [
    {
     "name": "stderr",
     "output_type": "stream",
     "text": [
      "  2% (2 of 100) |                        | Elapsed Time: 0:00:00 ETA:  00:00:00"
     ]
    },
    {
     "name": "stdout",
     "output_type": "stream",
     "text": [
      "Numero de iterações foi o suficiente para convergir\n",
      "\n",
      "Função 3 - Valor cálculado pelo método Quase-Newton : 1.09090911388615\n",
      "Valor otimizado : 1.09090909090909\n"
     ]
    }
   ],
   "source": [
    "mqn3 = metodo_quase_newton([0, 0], 0.001, f3)\n",
    "sp3 = solve(f3.diff(x), x)\n",
    "print(f\"\\nFunção 3 - Valor cálculado pelo método Quase-Newton : {mqn3[0]}\\nValor otimizado : {sp3[0]}\")"
   ]
  },
  {
   "cell_type": "code",
   "execution_count": 18,
   "id": "c879d749",
   "metadata": {},
   "outputs": [
    {
     "name": "stderr",
     "output_type": "stream",
     "text": [
      "  1% (1 of 100) |                        | Elapsed Time: 0:00:00 ETA:   0:00:20"
     ]
    },
    {
     "name": "stdout",
     "output_type": "stream",
     "text": [
      "Numero de iterações foi o suficiente para convergir\n",
      "\n",
      "Função 4 - Valor cálculado pelo método Quase-Newton : 2.95454545454574\n",
      "Valor otimizado : 2.95454545454545\n",
      "\n",
      "\n",
      "\n"
     ]
    }
   ],
   "source": [
    "mqn4 = metodo_quase_newton([0, 0], 0.001, f4)\n",
    "sp4 = solve(f4.diff(x), x)\n",
    "print(f\"\\nFunção 4 - Valor cálculado pelo método Quase-Newton : {mqn4[0]}\\nValor otimizado : {sp4[0]}\\n\\n\\n\")"
   ]
  },
  {
   "cell_type": "code",
   "execution_count": null,
   "id": "09b0229e",
   "metadata": {},
   "outputs": [],
   "source": []
  }
 ],
 "metadata": {
  "kernelspec": {
   "display_name": "Python 3 (ipykernel)",
   "language": "python",
   "name": "python3"
  },
  "language_info": {
   "codemirror_mode": {
    "name": "ipython",
    "version": 3
   },
   "file_extension": ".py",
   "mimetype": "text/x-python",
   "name": "python",
   "nbconvert_exporter": "python",
   "pygments_lexer": "ipython3",
   "version": "3.9.7"
  }
 },
 "nbformat": 4,
 "nbformat_minor": 5
}
